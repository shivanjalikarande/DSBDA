{
 "cells": [
  {
   "cell_type": "code",
   "execution_count": 36,
   "id": "f61c024b-5b3b-4b40-b38b-d936aadabc5f",
   "metadata": {},
   "outputs": [],
   "source": [
    "import pandas as pd\n",
    "import numpy as np\n",
    "import matplotlib.pyplot as plt\n",
    "import seaborn as sns\n",
    "from sklearn.preprocessing import LabelEncoder"
   ]
  },
  {
   "cell_type": "code",
   "execution_count": 6,
   "id": "44182efe-5ef7-41f1-8297-80de8c0f60be",
   "metadata": {},
   "outputs": [],
   "source": [
    "file_path = \"/home/pict/Downloads/Energy_consumption_dataset.csv\"\n",
    "df = pd.read_csv(file_path)"
   ]
  },
  {
   "cell_type": "code",
   "execution_count": 13,
   "id": "fe4471c9-de65-41f8-8115-fa947f3e37c1",
   "metadata": {},
   "outputs": [
    {
     "data": {
      "text/html": [
       "<div>\n",
       "<style scoped>\n",
       "    .dataframe tbody tr th:only-of-type {\n",
       "        vertical-align: middle;\n",
       "    }\n",
       "\n",
       "    .dataframe tbody tr th {\n",
       "        vertical-align: top;\n",
       "    }\n",
       "\n",
       "    .dataframe thead th {\n",
       "        text-align: right;\n",
       "    }\n",
       "</style>\n",
       "<table border=\"1\" class=\"dataframe\">\n",
       "  <thead>\n",
       "    <tr style=\"text-align: right;\">\n",
       "      <th></th>\n",
       "      <th>Month</th>\n",
       "      <th>Hour</th>\n",
       "      <th>DayOfWeek</th>\n",
       "      <th>Holiday</th>\n",
       "      <th>Temperature</th>\n",
       "      <th>Humidity</th>\n",
       "      <th>SquareFootage</th>\n",
       "      <th>Occupancy</th>\n",
       "      <th>HVACUsage</th>\n",
       "      <th>LightingUsage</th>\n",
       "      <th>RenewableEnergy</th>\n",
       "      <th>EnergyConsumption</th>\n",
       "    </tr>\n",
       "  </thead>\n",
       "  <tbody>\n",
       "    <tr>\n",
       "      <th>0</th>\n",
       "      <td>1</td>\n",
       "      <td>0</td>\n",
       "      <td>Saturday</td>\n",
       "      <td>No</td>\n",
       "      <td>25.139433</td>\n",
       "      <td>43.431581</td>\n",
       "      <td>1565.693999</td>\n",
       "      <td>5</td>\n",
       "      <td>On</td>\n",
       "      <td>Off</td>\n",
       "      <td>2.774699</td>\n",
       "      <td>75.364373</td>\n",
       "    </tr>\n",
       "    <tr>\n",
       "      <th>1</th>\n",
       "      <td>1</td>\n",
       "      <td>1</td>\n",
       "      <td>Saturday</td>\n",
       "      <td>No</td>\n",
       "      <td>27.731651</td>\n",
       "      <td>54.225919</td>\n",
       "      <td>1411.064918</td>\n",
       "      <td>1</td>\n",
       "      <td>On</td>\n",
       "      <td>On</td>\n",
       "      <td>21.831384</td>\n",
       "      <td>83.401855</td>\n",
       "    </tr>\n",
       "    <tr>\n",
       "      <th>2</th>\n",
       "      <td>1</td>\n",
       "      <td>2</td>\n",
       "      <td>Saturday</td>\n",
       "      <td>No</td>\n",
       "      <td>28.704277</td>\n",
       "      <td>58.907658</td>\n",
       "      <td>1755.715009</td>\n",
       "      <td>2</td>\n",
       "      <td>Off</td>\n",
       "      <td>Off</td>\n",
       "      <td>6.764672</td>\n",
       "      <td>78.270888</td>\n",
       "    </tr>\n",
       "    <tr>\n",
       "      <th>3</th>\n",
       "      <td>1</td>\n",
       "      <td>3</td>\n",
       "      <td>Saturday</td>\n",
       "      <td>No</td>\n",
       "      <td>20.080469</td>\n",
       "      <td>50.371637</td>\n",
       "      <td>1452.316318</td>\n",
       "      <td>1</td>\n",
       "      <td>Off</td>\n",
       "      <td>On</td>\n",
       "      <td>8.623447</td>\n",
       "      <td>56.519850</td>\n",
       "    </tr>\n",
       "    <tr>\n",
       "      <th>4</th>\n",
       "      <td>1</td>\n",
       "      <td>4</td>\n",
       "      <td>Saturday</td>\n",
       "      <td>No</td>\n",
       "      <td>23.097359</td>\n",
       "      <td>51.401421</td>\n",
       "      <td>1094.130359</td>\n",
       "      <td>9</td>\n",
       "      <td>On</td>\n",
       "      <td>Off</td>\n",
       "      <td>3.071969</td>\n",
       "      <td>70.811732</td>\n",
       "    </tr>\n",
       "  </tbody>\n",
       "</table>\n",
       "</div>"
      ],
      "text/plain": [
       "   Month  Hour DayOfWeek Holiday  Temperature   Humidity  SquareFootage  \\\n",
       "0      1     0  Saturday      No    25.139433  43.431581    1565.693999   \n",
       "1      1     1  Saturday      No    27.731651  54.225919    1411.064918   \n",
       "2      1     2  Saturday      No    28.704277  58.907658    1755.715009   \n",
       "3      1     3  Saturday      No    20.080469  50.371637    1452.316318   \n",
       "4      1     4  Saturday      No    23.097359  51.401421    1094.130359   \n",
       "\n",
       "   Occupancy HVACUsage LightingUsage  RenewableEnergy  EnergyConsumption  \n",
       "0          5        On           Off         2.774699          75.364373  \n",
       "1          1        On            On        21.831384          83.401855  \n",
       "2          2       Off           Off         6.764672          78.270888  \n",
       "3          1       Off            On         8.623447          56.519850  \n",
       "4          9        On           Off         3.071969          70.811732  "
      ]
     },
     "execution_count": 13,
     "metadata": {},
     "output_type": "execute_result"
    }
   ],
   "source": [
    "df.head()"
   ]
  },
  {
   "cell_type": "code",
   "execution_count": 30,
   "id": "3bc606d9-1398-4580-bf92-1167166d2453",
   "metadata": {},
   "outputs": [
    {
     "name": "stdout",
     "output_type": "stream",
     "text": [
      "      Month  Hour DayOfWeek Holiday  Temperature   Humidity  SquareFootage  \\\n",
      "0         1     0  Saturday      No    25.139433  43.431581    1565.693999   \n",
      "1         1     1  Saturday      No    27.731651  54.225919    1411.064918   \n",
      "2         1     2  Saturday      No    28.704277  58.907658    1755.715009   \n",
      "3         1     3  Saturday      No    20.080469  50.371637    1452.316318   \n",
      "4         1     4  Saturday      No    23.097359  51.401421    1094.130359   \n",
      "...     ...   ...       ...     ...          ...        ...            ...   \n",
      "4995     12     6    Sunday     Yes    26.338718  52.580000    1563.567259   \n",
      "4996     12    17    Monday      No    20.007565  42.765607    1999.982252   \n",
      "4997     12    13  Thursday     Yes    26.226253  30.015975    1999.982252   \n",
      "4998     12     8  Saturday     Yes    24.673206  50.223939    1240.811298   \n",
      "4999     12     1  Saturday     Yes    25.802872  41.798829    1793.658686   \n",
      "\n",
      "      Occupancy HVACUsage LightingUsage  RenewableEnergy  EnergyConsumption  \\\n",
      "0             5        On           Off         2.774699          75.364373   \n",
      "1             1        On            On        21.831384          83.401855   \n",
      "2             2       Off           Off         6.764672          78.270888   \n",
      "3             1       Off            On         8.623447          56.519850   \n",
      "4             9        On           Off         3.071969          70.811732   \n",
      "...         ...       ...           ...              ...                ...   \n",
      "4995          7        On            On        20.591717          70.270344   \n",
      "4996          5       Off            On         7.536319          73.943071   \n",
      "4997          5       Off            On        28.162193          85.784613   \n",
      "4998          2        On            On        20.918483          63.784001   \n",
      "4999          6       Off           Off         8.334079          53.263278   \n",
      "\n",
      "      Humidity_Normalized  \n",
      "0            4.478869e-01  \n",
      "1            8.082614e-01  \n",
      "2            9.645637e-01  \n",
      "3            6.795843e-01  \n",
      "4            7.139641e-01  \n",
      "...                   ...  \n",
      "4995         7.533116e-01  \n",
      "4996         4.256531e-01  \n",
      "4997         1.657722e-08  \n",
      "4998         6.746533e-01  \n",
      "4999         3.933766e-01  \n",
      "\n",
      "[5000 rows x 13 columns]\n"
     ]
    }
   ],
   "source": [
    "print(df)"
   ]
  },
  {
   "cell_type": "code",
   "execution_count": 33,
   "id": "37334edb-3741-4353-99b9-57e0320329aa",
   "metadata": {},
   "outputs": [
    {
     "name": "stdout",
     "output_type": "stream",
     "text": [
      "Missing Values:\n",
      " Month                  0\n",
      "Hour                   0\n",
      "DayOfWeek              0\n",
      "Holiday                0\n",
      "Temperature            0\n",
      "Humidity               0\n",
      "SquareFootage          0\n",
      "Occupancy              0\n",
      "HVACUsage              0\n",
      "LightingUsage          0\n",
      "RenewableEnergy        0\n",
      "EnergyConsumption      0\n",
      "Humidity_Normalized    0\n",
      "dtype: int64\n"
     ]
    }
   ],
   "source": [
    "#Data Preprocessing\n",
    "missing_values = df.isnull().sum()\n",
    "print(\"Missing Values:\\n\",missing_values)"
   ]
  },
  {
   "cell_type": "code",
   "execution_count": 19,
   "id": "23eff5c5-6754-485b-8412-cc98f5058c4d",
   "metadata": {},
   "outputs": [
    {
     "name": "stdout",
     "output_type": "stream",
     "text": [
      "Data Statistics:\n",
      "              Month         Hour  Temperature     Humidity  SquareFootage  \\\n",
      "count  5000.000000  5000.000000  5000.000000  5000.000000    5000.000000   \n",
      "mean      6.251200    11.556000    24.946823    45.478146    1507.403201   \n",
      "std       3.588687     6.888306     3.041678     8.972690     293.147209   \n",
      "min       1.000000     0.000000    20.007565    30.015975    1000.512661   \n",
      "25%       3.000000     6.000000    22.453790    38.111104    1253.906598   \n",
      "50%       6.000000    11.000000    24.831846    45.793124    1513.581105   \n",
      "75%       9.000000    18.000000    27.427281    52.696651    1754.846457   \n",
      "max      12.000000    23.000000    29.998671    59.969085    1999.982252   \n",
      "\n",
      "         Occupancy  RenewableEnergy  EnergyConsumption  \n",
      "count  5000.000000      5000.000000        5000.000000  \n",
      "mean      4.576000        15.201195          76.794919  \n",
      "std       2.906185         9.157038           9.231573  \n",
      "min       0.000000         0.006642          53.263278  \n",
      "25%       2.000000         7.477928          70.419588  \n",
      "50%       5.000000        15.343830          76.696267  \n",
      "75%       7.000000        22.889997          83.246274  \n",
      "max       9.000000        29.965327          99.201120  \n"
     ]
    }
   ],
   "source": [
    "print(\"Data Statistics:\\n\",df.describe())"
   ]
  },
  {
   "cell_type": "code",
   "execution_count": 20,
   "id": "329b5b30-4b88-4b6d-9819-c166b3d8e968",
   "metadata": {},
   "outputs": [
    {
     "name": "stdout",
     "output_type": "stream",
     "text": [
      "<class 'pandas.core.frame.DataFrame'>\n",
      "RangeIndex: 5000 entries, 0 to 4999\n",
      "Data columns (total 12 columns):\n",
      " #   Column             Non-Null Count  Dtype  \n",
      "---  ------             --------------  -----  \n",
      " 0   Month              5000 non-null   int64  \n",
      " 1   Hour               5000 non-null   int64  \n",
      " 2   DayOfWeek          5000 non-null   object \n",
      " 3   Holiday            5000 non-null   object \n",
      " 4   Temperature        5000 non-null   float64\n",
      " 5   Humidity           5000 non-null   float64\n",
      " 6   SquareFootage      5000 non-null   float64\n",
      " 7   Occupancy          5000 non-null   int64  \n",
      " 8   HVACUsage          5000 non-null   object \n",
      " 9   LightingUsage      5000 non-null   object \n",
      " 10  RenewableEnergy    5000 non-null   float64\n",
      " 11  EnergyConsumption  5000 non-null   float64\n",
      "dtypes: float64(5), int64(3), object(4)\n",
      "memory usage: 468.9+ KB\n",
      "Data Information:\n",
      " None\n"
     ]
    }
   ],
   "source": [
    "print(\"Data Information:\\n\",df.info())"
   ]
  },
  {
   "cell_type": "code",
   "execution_count": 23,
   "id": "da98e33e-6d3f-4722-aa9d-48d171438429",
   "metadata": {},
   "outputs": [
    {
     "name": "stdout",
     "output_type": "stream",
     "text": [
      "Dataset dimentions:\n",
      " {(5000, 12)}\n"
     ]
    }
   ],
   "source": [
    "print(\"Dataset dimentions:\\n\",{df.shape})"
   ]
  },
  {
   "cell_type": "code",
   "execution_count": 26,
   "id": "bea9bba2-290e-49d7-abe2-86346af0e4b2",
   "metadata": {},
   "outputs": [
    {
     "name": "stdout",
     "output_type": "stream",
     "text": [
      "Data Types:\n",
      " Month                  int64\n",
      "Hour                   int64\n",
      "DayOfWeek             object\n",
      "Holiday               object\n",
      "Temperature          float64\n",
      "Humidity             float64\n",
      "SquareFootage        float64\n",
      "Occupancy              int64\n",
      "HVACUsage             object\n",
      "LightingUsage         object\n",
      "RenewableEnergy      float64\n",
      "EnergyConsumption    float64\n",
      "dtype: object\n"
     ]
    }
   ],
   "source": [
    "print(\"Data Types:\\n\",df.dtypes)"
   ]
  },
  {
   "cell_type": "code",
   "execution_count": 32,
   "id": "be212cda-d54c-46be-9b6c-93aa6beecaf9",
   "metadata": {},
   "outputs": [
    {
     "name": "stdout",
     "output_type": "stream",
     "text": [
      "      Month  Hour DayOfWeek Holiday  Temperature   Humidity  SquareFootage  \\\n",
      "0         1     0  Saturday      No    25.139433  43.431581    1565.693999   \n",
      "1         1     1  Saturday      No    27.731651  54.225919    1411.064918   \n",
      "2         1     2  Saturday      No    28.704277  58.907658    1755.715009   \n",
      "3         1     3  Saturday      No    20.080469  50.371637    1452.316318   \n",
      "4         1     4  Saturday      No    23.097359  51.401421    1094.130359   \n",
      "...     ...   ...       ...     ...          ...        ...            ...   \n",
      "4995     12     6    Sunday     Yes    26.338718  52.580000    1563.567259   \n",
      "4996     12    17    Monday      No    20.007565  42.765607    1999.982252   \n",
      "4997     12    13  Thursday     Yes    26.226253  30.015975    1999.982252   \n",
      "4998     12     8  Saturday     Yes    24.673206  50.223939    1240.811298   \n",
      "4999     12     1  Saturday     Yes    25.802872  41.798829    1793.658686   \n",
      "\n",
      "      Occupancy HVACUsage LightingUsage  RenewableEnergy  EnergyConsumption  \\\n",
      "0             5        On           Off         2.774699          75.364373   \n",
      "1             1        On            On        21.831384          83.401855   \n",
      "2             2       Off           Off         6.764672          78.270888   \n",
      "3             1       Off            On         8.623447          56.519850   \n",
      "4             9        On           Off         3.071969          70.811732   \n",
      "...         ...       ...           ...              ...                ...   \n",
      "4995          7        On            On        20.591717          70.270344   \n",
      "4996          5       Off            On         7.536319          73.943071   \n",
      "4997          5       Off            On        28.162193          85.784613   \n",
      "4998          2        On            On        20.918483          63.784001   \n",
      "4999          6       Off           Off         8.334079          53.263278   \n",
      "\n",
      "      Humidity_Normalized  \n",
      "0            4.478869e-01  \n",
      "1            8.082614e-01  \n",
      "2            9.645637e-01  \n",
      "3            6.795843e-01  \n",
      "4            7.139641e-01  \n",
      "...                   ...  \n",
      "4995         7.533116e-01  \n",
      "4996         4.256531e-01  \n",
      "4997         1.657722e-08  \n",
      "4998         6.746533e-01  \n",
      "4999         3.933766e-01  \n",
      "\n",
      "[5000 rows x 13 columns]\n"
     ]
    }
   ],
   "source": [
    "#Min-Max Normalization (Rescaling)\n",
    "df[\"Humidity_Normalized\"] = (df[\"Humidity\"] - df[\"Humidity\"].min()) / (df[\"Humidity\"].max() - df[\"Humidity\"].min()) \n",
    "print(df)"
   ]
  },
  {
   "cell_type": "code",
   "execution_count": 35,
   "id": "5fc36418-940a-4506-a9ab-90eed1a89891",
   "metadata": {},
   "outputs": [
    {
     "name": "stdout",
     "output_type": "stream",
     "text": [
      "      Month  Hour DayOfWeek Holiday  Temperature   Humidity  SquareFootage  \\\n",
      "0         1     0  Saturday      No    25.139433  43.431581    1565.693999   \n",
      "1         1     1  Saturday      No    27.731651  54.225919    1411.064918   \n",
      "2         1     2  Saturday      No    28.704277  58.907658    1755.715009   \n",
      "3         1     3  Saturday      No    20.080469  50.371637    1452.316318   \n",
      "4         1     4  Saturday      No    23.097359  51.401421    1094.130359   \n",
      "...     ...   ...       ...     ...          ...        ...            ...   \n",
      "4995     12     6    Sunday     Yes    26.338718  52.580000    1563.567259   \n",
      "4996     12    17    Monday      No    20.007565  42.765607    1999.982252   \n",
      "4997     12    13  Thursday     Yes    26.226253  30.015975    1999.982252   \n",
      "4998     12     8  Saturday     Yes    24.673206  50.223939    1240.811298   \n",
      "4999     12     1  Saturday     Yes    25.802872  41.798829    1793.658686   \n",
      "\n",
      "      Occupancy HVACUsage LightingUsage  RenewableEnergy  EnergyConsumption  \\\n",
      "0             5        On           Off         2.774699          75.364373   \n",
      "1             1        On            On        21.831384          83.401855   \n",
      "2             2       Off           Off         6.764672          78.270888   \n",
      "3             1       Off            On         8.623447          56.519850   \n",
      "4             9        On           Off         3.071969          70.811732   \n",
      "...         ...       ...           ...              ...                ...   \n",
      "4995          7        On            On        20.591717          70.270344   \n",
      "4996          5       Off            On         7.536319          73.943071   \n",
      "4997          5       Off            On        28.162193          85.784613   \n",
      "4998          2        On            On        20.918483          63.784001   \n",
      "4999          6       Off           Off         8.334079          53.263278   \n",
      "\n",
      "      Humidity_Normalized  Standardized_Humidity  \n",
      "0            4.478869e-01              -0.228088  \n",
      "1            8.082614e-01               0.974933  \n",
      "2            9.645637e-01               1.496710  \n",
      "3            6.795843e-01               0.545376  \n",
      "4            7.139641e-01               0.660145  \n",
      "...                   ...                    ...  \n",
      "4995         7.533116e-01               0.791497  \n",
      "4996         4.256531e-01              -0.302311  \n",
      "4997         1.657722e-08              -1.723248  \n",
      "4998         6.746533e-01               0.528915  \n",
      "4999         3.933766e-01              -0.410057  \n",
      "\n",
      "[5000 rows x 14 columns]\n"
     ]
    }
   ],
   "source": [
    "#Z-Score Normalization (Standardization)\n",
    "df[\"Standardized_Humidity\"] = (df[\"Humidity\"] - df[\"Humidity\"].mean()) / df[\"Humidity\"].std()\n",
    "print(df)"
   ]
  },
  {
   "cell_type": "code",
   "execution_count": 39,
   "id": "729adf40-9a96-45b0-a55a-98be84e2fd0a",
   "metadata": {},
   "outputs": [
    {
     "name": "stdout",
     "output_type": "stream",
     "text": [
      "      Month  Hour DayOfWeek Holiday  Temperature   Humidity  SquareFootage  \\\n",
      "0         1     0  Saturday      No    25.139433  43.431581    1565.693999   \n",
      "1         1     1  Saturday      No    27.731651  54.225919    1411.064918   \n",
      "2         1     2  Saturday      No    28.704277  58.907658    1755.715009   \n",
      "3         1     3  Saturday      No    20.080469  50.371637    1452.316318   \n",
      "4         1     4  Saturday      No    23.097359  51.401421    1094.130359   \n",
      "...     ...   ...       ...     ...          ...        ...            ...   \n",
      "4995     12     6    Sunday     Yes    26.338718  52.580000    1563.567259   \n",
      "4996     12    17    Monday      No    20.007565  42.765607    1999.982252   \n",
      "4997     12    13  Thursday     Yes    26.226253  30.015975    1999.982252   \n",
      "4998     12     8  Saturday     Yes    24.673206  50.223939    1240.811298   \n",
      "4999     12     1  Saturday     Yes    25.802872  41.798829    1793.658686   \n",
      "\n",
      "      Occupancy HVACUsage LightingUsage  RenewableEnergy  EnergyConsumption  \\\n",
      "0             5        On           Off         2.774699          75.364373   \n",
      "1             1        On            On        21.831384          83.401855   \n",
      "2             2       Off           Off         6.764672          78.270888   \n",
      "3             1       Off            On         8.623447          56.519850   \n",
      "4             9        On           Off         3.071969          70.811732   \n",
      "...         ...       ...           ...              ...                ...   \n",
      "4995          7        On            On        20.591717          70.270344   \n",
      "4996          5       Off            On         7.536319          73.943071   \n",
      "4997          5       Off            On        28.162193          85.784613   \n",
      "4998          2        On            On        20.918483          63.784001   \n",
      "4999          6       Off           Off         8.334079          53.263278   \n",
      "\n",
      "      Humidity_Normalized  Standardized_Humidity  Holiday_encoded  \n",
      "0            4.478869e-01              -0.228088                0  \n",
      "1            8.082614e-01               0.974933                0  \n",
      "2            9.645637e-01               1.496710                0  \n",
      "3            6.795843e-01               0.545376                0  \n",
      "4            7.139641e-01               0.660145                0  \n",
      "...                   ...                    ...              ...  \n",
      "4995         7.533116e-01               0.791497                1  \n",
      "4996         4.256531e-01              -0.302311                0  \n",
      "4997         1.657722e-08              -1.723248                1  \n",
      "4998         6.746533e-01               0.528915                1  \n",
      "4999         3.933766e-01              -0.410057                1  \n",
      "\n",
      "[5000 rows x 15 columns]\n"
     ]
    }
   ],
   "source": [
    "#Categorical variables to quantitative variables\n",
    "#Label Encoding\n",
    "label_encoder = LabelEncoder()\n",
    "df[\"Holiday_encoded\"] = label_encoder.fit_transform(df[\"Holiday\"])\n",
    "print(df)"
   ]
  },
  {
   "cell_type": "code",
   "execution_count": 41,
   "id": "ced81f24-bba4-4707-af5c-4f51103450cc",
   "metadata": {},
   "outputs": [
    {
     "name": "stdout",
     "output_type": "stream",
     "text": [
      "      Month  Hour DayOfWeek  Temperature   Humidity  SquareFootage  Occupancy  \\\n",
      "0         1     0  Saturday    25.139433  43.431581    1565.693999          5   \n",
      "1         1     1  Saturday    27.731651  54.225919    1411.064918          1   \n",
      "2         1     2  Saturday    28.704277  58.907658    1755.715009          2   \n",
      "3         1     3  Saturday    20.080469  50.371637    1452.316318          1   \n",
      "4         1     4  Saturday    23.097359  51.401421    1094.130359          9   \n",
      "...     ...   ...       ...          ...        ...            ...        ...   \n",
      "4995     12     6    Sunday    26.338718  52.580000    1563.567259          7   \n",
      "4996     12    17    Monday    20.007565  42.765607    1999.982252          5   \n",
      "4997     12    13  Thursday    26.226253  30.015975    1999.982252          5   \n",
      "4998     12     8  Saturday    24.673206  50.223939    1240.811298          2   \n",
      "4999     12     1  Saturday    25.802872  41.798829    1793.658686          6   \n",
      "\n",
      "     HVACUsage LightingUsage  RenewableEnergy  EnergyConsumption  \\\n",
      "0           On           Off         2.774699          75.364373   \n",
      "1           On            On        21.831384          83.401855   \n",
      "2          Off           Off         6.764672          78.270888   \n",
      "3          Off            On         8.623447          56.519850   \n",
      "4           On           Off         3.071969          70.811732   \n",
      "...        ...           ...              ...                ...   \n",
      "4995        On            On        20.591717          70.270344   \n",
      "4996       Off            On         7.536319          73.943071   \n",
      "4997       Off            On        28.162193          85.784613   \n",
      "4998        On            On        20.918483          63.784001   \n",
      "4999       Off           Off         8.334079          53.263278   \n",
      "\n",
      "      Humidity_Normalized  Standardized_Humidity  Holiday_encoded  holiday_No  \\\n",
      "0            4.478869e-01              -0.228088                0        True   \n",
      "1            8.082614e-01               0.974933                0        True   \n",
      "2            9.645637e-01               1.496710                0        True   \n",
      "3            6.795843e-01               0.545376                0        True   \n",
      "4            7.139641e-01               0.660145                0        True   \n",
      "...                   ...                    ...              ...         ...   \n",
      "4995         7.533116e-01               0.791497                1       False   \n",
      "4996         4.256531e-01              -0.302311                0        True   \n",
      "4997         1.657722e-08              -1.723248                1       False   \n",
      "4998         6.746533e-01               0.528915                1       False   \n",
      "4999         3.933766e-01              -0.410057                1       False   \n",
      "\n",
      "      holiday_Yes  \n",
      "0           False  \n",
      "1           False  \n",
      "2           False  \n",
      "3           False  \n",
      "4           False  \n",
      "...           ...  \n",
      "4995         True  \n",
      "4996        False  \n",
      "4997         True  \n",
      "4998         True  \n",
      "4999         True  \n",
      "\n",
      "[5000 rows x 16 columns]\n"
     ]
    }
   ],
   "source": [
    "#One-hot encoding\n",
    "df_encoded = pd.get_dummies(df,columns=[\"Holiday\"],prefix=\"holiday\",drop_first=False)\n",
    "print(df_encoded)"
   ]
  },
  {
   "cell_type": "code",
   "execution_count": 43,
   "id": "d7500a07-4359-4cd3-ae8f-3acc13960e97",
   "metadata": {},
   "outputs": [
    {
     "name": "stdout",
     "output_type": "stream",
     "text": [
      "0    1.0\n",
      "1    2.0\n",
      "2    NaN\n",
      "3    4.0\n",
      "dtype: float64\n"
     ]
    }
   ],
   "source": [
    "#use of to_numeric\n",
    "data = pd.Series(['1', '2', 'abc', '4'])\n",
    "numeric_data = pd.to_numeric(data, errors='coerce')\n",
    "print(numeric_data)"
   ]
  },
  {
   "cell_type": "code",
   "execution_count": 44,
   "id": "20477877-1c10-4da9-b819-24dc0bd28e48",
   "metadata": {},
   "outputs": [
    {
     "name": "stdout",
     "output_type": "stream",
     "text": [
      "0      1\n",
      "1      2\n",
      "2    abc\n",
      "3      4\n",
      "dtype: object\n"
     ]
    }
   ],
   "source": [
    "data = pd.Series(['1', '2', 'abc', '4'])\n",
    "numeric_data = pd.to_numeric(data, errors='ignore')\n",
    "print(numeric_data)"
   ]
  }
 ],
 "metadata": {
  "kernelspec": {
   "display_name": "Python 3 (ipykernel)",
   "language": "python",
   "name": "python3"
  },
  "language_info": {
   "codemirror_mode": {
    "name": "ipython",
    "version": 3
   },
   "file_extension": ".py",
   "mimetype": "text/x-python",
   "name": "python",
   "nbconvert_exporter": "python",
   "pygments_lexer": "ipython3",
   "version": "3.8.10"
  }
 },
 "nbformat": 4,
 "nbformat_minor": 5
}
